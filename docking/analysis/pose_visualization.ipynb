{
 "cells": [
  {
   "cell_type": "markdown",
   "metadata": {},
   "source": [
    "# __Chimera Docking Visualization__"
   ]
  },
  {
   "cell_type": "raw",
   "metadata": {
    "vscode": {
     "languageId": "raw"
    }
   },
   "source": [
    "# chimera colors\n",
    "\n",
    "skyblue\n",
    "navyblue\n",
    "\n",
    "darkred\n",
    "salmon\n",
    "\n",
    "lightgreen\n",
    "darkgreen\n",
    "\n",
    "deeppink\n",
    "darkmagenta\n",
    "\n",
    "aquamarine\n",
    "khaki"
   ]
  },
  {
   "cell_type": "markdown",
   "metadata": {},
   "source": [
    "**Obs.** C numbering for 5-HETE and 5-HpETE is the other way around with respect to AA. AA counts C's wrt the carboxylate head. HETE/HpETE counts C's wrt the methyl tail. Thus C10(AA)-C11(HETE/HpETE), C13(AA)-C8(HETE/HpETE). Hydrogens are not numbered consistently. For future, work: please, ensure your protocol is consistent!"
   ]
  },
  {
   "cell_type": "markdown",
   "metadata": {},
   "source": [
    "## __CAVITY VISUALIZATION__\n",
    "També funciona per veure el lligand durant una MD"
   ]
  },
  {
   "cell_type": "code",
   "execution_count": null,
   "metadata": {},
   "outputs": [],
   "source": [
    "import chimera\n",
    "from chimera import runCommand\n",
    "\n",
    "runCommand('sel protein & element.C')\n",
    "runCommand('color skyblue,a sel')\n",
    "runCommand('sel protein')\n",
    "runCommand('color skyblue,r sel')\n",
    "runCommand('transp 75,r sel')\n",
    "runCommand('sel solvent')\n",
    "runCommand('~disp solvent')\n",
    "runCommand('sel :LIG & element.C')\n",
    "runCommand('color green,a sel')\n",
    "runCommand('disp :599,175,662,402,174,399,361,547,356,551,352,593,589,559,418,417,592,595,596,414,407')\n",
    "runCommand('sel :599,175,662,402,174,399,361,547,356,551,352,593,589,559,418,417,592,595,596,414,407 & element.H')\n",
    "runCommand('~disp sel')\n",
    "runCommand('sel :399')"
   ]
  },
  {
   "cell_type": "code",
   "execution_count": null,
   "metadata": {},
   "outputs": [],
   "source": [
    "f='/Applications/Chimera.app/Contents/Resources/share/script_cavity_view_ligand.py'\n",
    "execfile(f)"
   ]
  },
  {
   "cell_type": "code",
   "execution_count": null,
   "metadata": {},
   "outputs": [],
   "source": [
    "f='/Applications/Chimera.app/Contents/Resources/share/script_cavity_view_ligand_publication.py'"
   ]
  },
  {
   "cell_type": "code",
   "execution_count": null,
   "metadata": {},
   "outputs": [],
   "source": [
    "f='/Applications/Chimera.app/Contents/Resources/share/script_visualization_publication_v2.py'"
   ]
  },
  {
   "cell_type": "markdown",
   "metadata": {},
   "source": [
    "## __AA__"
   ]
  },
  {
   "cell_type": "code",
   "execution_count": null,
   "metadata": {},
   "outputs": [],
   "source": [
    "import chimera\n",
    "from chimera import runCommand\n",
    "\n",
    "for i in range(0, 10):\n",
    "    runCommand('sel #1-9999 & element.C'.format(i+1))\n",
    "    runCommand('color skyblue,a sel')\n",
    "\n",
    "    runCommand('sel #1-9999')\n",
    "    runCommand('repr wire sel')\n",
    "    runCommand('linewidth 4 sel')\n",
    "    runCommand('~display element.H')\n",
    "    runCommand('sel #1-9999@h13A,h13B,h10A,h10B')\n",
    "    runCommand('display sel')\n",
    "\n",
    "    # H distances\n",
    "    runCommand('distance #{0}@h13A #0:664@oh'.format(i+1))\n",
    "    runCommand('distance #{0}@h13B #0:664@oh'.format(i+1))\n",
    "    runCommand('distance #{0}@h10A #0:664@oh'.format(i+1))\n",
    "    runCommand('distance #{0}@h10B #0:664@oh'.format(i+1))\n",
    "\n",
    "    # COO-ARG402 distances\n",
    "    runCommand('distance #{0}@o1 #0:402@he'.format(i+1))  #aprop\n",
    "    runCommand('distance #{0}@o2 #0:402@he'.format(i+1))  #lluny\n",
    "    \n",
    "    # Met-ILE417 distances\n",
    "    runCommand('distance #{0}@c20 #0:417@cd1'.format(i+1))  \n"
   ]
  },
  {
   "cell_type": "code",
   "execution_count": null,
   "metadata": {},
   "outputs": [],
   "source": [
    "f='/Applications/Chimera.app/Contents/Resources/share/script_H_AA.py'\n",
    "execfile(f)"
   ]
  },
  {
   "cell_type": "code",
   "execution_count": null,
   "metadata": {},
   "outputs": [],
   "source": [
    "f='/Applications/Chimera.app/Contents/Resources/share/script_H_AA_relaxed.py'\n",
    "execfile(f)"
   ]
  },
  {
   "cell_type": "markdown",
   "metadata": {},
   "source": [
    "## __5-HpETE__"
   ]
  },
  {
   "cell_type": "code",
   "execution_count": null,
   "metadata": {},
   "outputs": [],
   "source": [
    "import chimera\n",
    "from chimera import runCommand\n",
    "\n",
    "for i in range(0, 10):\n",
    "    runCommand('sel #1-9999 & element.C'.format(i+1))\n",
    "    runCommand('color skyblue,a sel')\n",
    "\n",
    "    runCommand('sel #1-9999')\n",
    "    runCommand('repr wire sel')\n",
    "    runCommand('linewidth 4 sel')\n",
    "    runCommand('~display element.H')\n",
    "    runCommand('sel #1-9999@h14,h15,h18,h19')   # h23 peroxo\n",
    "    runCommand('display sel')\n",
    "\n",
    "    runCommand('distance #{0}@h14 #0:664@oh'.format(i+1))\n",
    "    runCommand('distance #{0}@h15 #0:664@oh'.format(i+1))\n",
    "    runCommand('distance #{0}@h18 #0:664@oh'.format(i+1))\n",
    "    runCommand('distance #{0}@h19 #0:664@oh'.format(i+1))\n",
    "\n",
    "    # COO-ARG402 distances\n",
    "    runCommand('distance #{0}@o1 #0:402@he'.format(i+1))  #aprop\n",
    "    runCommand('distance #{0}@o2 #0:402@he'.format(i+1))  #lluny\n",
    "    \n",
    "    # Met-ILE417 distances\n",
    "    runCommand('distance #{0}@c1 #0:417@cd1'.format(i+1))  \n",
    "\n",
    "    # OH-ILE399 distances\n",
    "    runCommand('distance #{0}@h23 #0:399@o'.format(i+1)) "
   ]
  },
  {
   "cell_type": "code",
   "execution_count": null,
   "metadata": {},
   "outputs": [],
   "source": [
    "f='/Applications/Chimera.app/Contents/Resources/share/script_H_5HpETE.py'\n",
    "execfile(f)"
   ]
  },
  {
   "cell_type": "code",
   "execution_count": null,
   "metadata": {},
   "outputs": [],
   "source": [
    "f='/Applications/Chimera.app/Contents/Resources/share/script_H_5HpETE_relaxed.py'\n",
    "execfile(f)"
   ]
  },
  {
   "cell_type": "markdown",
   "metadata": {},
   "source": [
    "## __5-HETE__\n"
   ]
  },
  {
   "cell_type": "code",
   "execution_count": null,
   "metadata": {},
   "outputs": [],
   "source": [
    "import chimera\n",
    "from chimera import runCommand\n",
    "\n",
    "for i in range(0, 10):\n",
    "    runCommand('sel #1-9999 & element.C'.format(i+1))\n",
    "    runCommand('color skyblue,a sel')\n",
    "\n",
    "    runCommand('sel #1-9999')\n",
    "    runCommand('repr wire sel')\n",
    "    runCommand('linewidth 4 sel')\n",
    "    runCommand('~display element.H')\n",
    "    runCommand('sel #1-9999@h14,h15,h18,h19')   # h31 hydroxil\n",
    "    runCommand('display sel')\n",
    "\n",
    "    runCommand('distance #{0}@h14 #0:664@oh'.format(i+1))\n",
    "    runCommand('distance #{0}@h15 #0:664@oh'.format(i+1))\n",
    "    runCommand('distance #{0}@h18 #0:664@oh'.format(i+1))\n",
    "    runCommand('distance #{0}@h19 #0:664@oh'.format(i+1))\n",
    "\n",
    "    # COO-ARG402 distances\n",
    "    runCommand('distance #{0}@o1 #0:402@he'.format(i+1))  #aprop\n",
    "    runCommand('distance #{0}@o2 #0:402@he'.format(i+1))  #lluny\n",
    "    \n",
    "    # Met-ILE417 distances\n",
    "    runCommand('distance #{0}@c1 #0:417@cd1'.format(i+1))  \n",
    "\n",
    "    # OH-ILE399 distances\n",
    "    runCommand('distance #{0}@h31 #0:399@o'.format(i+1))  "
   ]
  },
  {
   "cell_type": "code",
   "execution_count": null,
   "metadata": {},
   "outputs": [],
   "source": [
    "f='/Applications/Chimera.app/Contents/Resources/share/script_H_5HETE.py'\n",
    "execfile(f)"
   ]
  },
  {
   "cell_type": "code",
   "execution_count": null,
   "metadata": {},
   "outputs": [],
   "source": [
    "f='/Applications/Chimera.app/Contents/Resources/share/script_H_5HETE_relaxed.py'\n",
    "execfile(f)"
   ]
  }
 ],
 "metadata": {
  "kernelspec": {
   "display_name": "general",
   "language": "python",
   "name": "python3"
  },
  "language_info": {
   "codemirror_mode": {
    "name": "ipython",
    "version": 3
   },
   "file_extension": ".py",
   "mimetype": "text/x-python",
   "name": "python",
   "nbconvert_exporter": "python",
   "pygments_lexer": "ipython3",
   "version": "3.12.4"
  }
 },
 "nbformat": 4,
 "nbformat_minor": 2
}
